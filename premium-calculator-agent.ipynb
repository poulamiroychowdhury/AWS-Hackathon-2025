{
 "cells": [
  {
   "cell_type": "markdown",
   "id": "0d080e49-dfec-4ad0-907a-6d8d0b52a64d",
   "metadata": {
    "pycharm": {
     "name": "#%% md\n"
    }
   },
   "source": [
    "# Create an Agent to create insurance premium\n",
    "\n",
    "The steps to complete this notebook are:\n",
    "\n",
    "1. Import the needed libraries\n",
    "1. Create the Knowledge Base for Amazon Bedrock and sync data to Knowledge Base\n",
    "1. Create the Agent for Amazon Bedrock\n",
    "1. Test the Agent"
   ]
  },
  {
   "cell_type": "markdown",
   "id": "190c24d3-4e43-4c6a-98a5-b860208494c9",
   "metadata": {
    "pycharm": {
     "name": "#%% md\n"
    }
   },
   "source": [
    "## 1. Import the needed libraries and complete the setup"
   ]
  },
  {
   "cell_type": "code",
   "execution_count": 6,
   "id": "55351440-b721-422c-9781-048d34fd90c5",
   "metadata": {},
   "outputs": [],
   "source": [
    "!pip install --upgrade -q opensearch-py\n",
    "!pip install --upgrade -q requests-aws4auth\n",
    "!pip install --upgrade -q boto3\n",
    "!pip install --upgrade -q botocore\n",
    "!pip install --upgrade -q awscli"
   ]
  },
  {
   "cell_type": "code",
   "execution_count": 7,
   "id": "e3783e10-d1db-4a22-acda-0b048e083e9e",
   "metadata": {},
   "outputs": [],
   "source": [
    "import logging\n",
    "import boto3\n",
    "import time\n",
    "import json\n",
    "import uuid\n",
    "import pprint\n",
    "import os\n",
    "from opensearchpy import OpenSearch, RequestsHttpConnection\n",
    "from requests_aws4auth import AWS4Auth"
   ]
  },
  {
   "cell_type": "code",
   "execution_count": 8,
   "id": "f11ba3c0-e27f-4853-bb72-9f7e91a33826",
   "metadata": {},
   "outputs": [],
   "source": [
    "# setting logger\n",
    "logging.basicConfig(format='[%(asctime)s] p%(process)s {%(filename)s:%(lineno)d} %(levelname)s - %(message)s', level=logging.INFO)\n",
    "logger = logging.getLogger(__name__)"
   ]
  },
  {
   "cell_type": "code",
   "execution_count": 9,
   "id": "7aea8f2d-b20a-4bc1-89b1-29498c85c319",
   "metadata": {},
   "outputs": [],
   "source": [
    "# getting boto3 clients for required AWS services\n",
    "sts_client = boto3.client('sts')\n",
    "iam_client = boto3.client('iam')\n",
    "s3_client = boto3.client('s3')\n",
    "lambda_client = boto3.client('lambda')\n",
    "bedrock_agent_client = boto3.client('bedrock-agent')\n",
    "bedrock_agent_runtime_client = boto3.client('bedrock-agent-runtime')\n",
    "open_search_serverless_client = boto3.client('opensearchserverless')"
   ]
  },
  {
   "cell_type": "code",
   "execution_count": 10,
   "id": "56b5cb4b-7e35-483a-b036-f13d528f5de7",
   "metadata": {},
   "outputs": [
    {
     "data": {
      "text/plain": [
       "('us-east-1', '657506130129')"
      ]
     },
     "execution_count": 10,
     "metadata": {},
     "output_type": "execute_result"
    }
   ],
   "source": [
    "session = boto3.session.Session()\n",
    "region = session.region_name\n",
    "account_id = sts_client.get_caller_identity()[\"Account\"]\n",
    "region, account_id"
   ]
  },
  {
   "cell_type": "code",
   "execution_count": 19,
   "id": "c1f6c9be-e2ea-4e94-bc83-d037bea92f7e",
   "metadata": {},
   "outputs": [
    {
     "name": "stdout",
     "output_type": "stream",
     "text": [
      "amazon.nova-pro-v1:0\n"
     ]
    }
   ],
   "source": [
    "# Generate random prefix for unique IAM roles, agent name and S3 Bucket and \n",
    "# assign variables\n",
    "suffix = f\"{region}-{account_id}\"\n",
    "agent_name = \"agent-explorers-insurance-agent\"\n",
    "agent_alias_name = f\"{agent_name}-alias\"\n",
    "bucket_name = \"agentexplorer-insurance-data\"\n",
    "bucket_arn = f\"arn:aws:s3:::{bucket_name}\"\n",
    "bedrock_agent_bedrock_allow_policy_name = f\"{agent_name}-bedrock-allow-policy\"\n",
    "bedrock_agent_s3_allow_policy_name = f\"{agent_name}-s3-allow-policy\"\n",
    "bedrock_agent_kb_allow_policy_name = f\"{agent_name}-kb-allow-policy\"\n",
    "agent_role_name = f'{agent_name}-exec-role'\n",
    "kb_name = f'{agent_name}-kb'\n",
    "data_source_name = f'{kb_name}-datasource'\n",
    "kb_key = 'knowledgebase-docs'\n",
    "kb_role_name = f'{kb_name}-exec-role'\n",
    "kb_bedrock_allow_policy_name = f\"{kb_name}-bedrock-allow-policy\"\n",
    "kb_aoss_allow_policy_name = f\"{kb_name}-aoss-allow-policy\"\n",
    "kb_s3_allow_policy_name = f\"{kb_name}-s3-allow-policy\"\n",
    "kb_collection_name = \"agent-explorers-insurance-kbc\"\n",
    "# Select Amazon titan as the embedding model\n",
    "embedding_model_arn = f'arn:aws:bedrock:{region}::foundation-model/amazon.titan-embed-text-v1'\n",
    "kb_vector_index_name = \"bedrock-knowledge-base-index\"\n",
    "kb_metadataField = 'bedrock-knowledge-base-metadata'\n",
    "kb_textField = 'bedrock-knowledge-base-text'\n",
    "kb_vectorField = 'bedrock-knowledge-base-vector'\n",
    "\n",
    "# agent configuration\n",
    "agent_instruction = \"\"\"\n",
    "You are an agent that support users working with Amazon Bedrock. You have access to Bedrock's documentation in a Knowledge Base\n",
    "and you can Answer questions from this documentation. Only answer questions based on the documentation and reply with \n",
    "\"There is no information about your question on the Amazon Bedrock Documentation at the moment, sorry! Do you want to ask another question?\" \n",
    "If the answer to the question is not available in the documentation\n",
    "\"\"\"\n",
    "\n",
    "# inference_profile = \"us.anthropic.claude-3-sonnet-20240229-v1:0\"\n",
    "inference_profile = \"us.amazon.nova-pro-v1:0\"\n",
    "foundation_model = inference_profile[3:] \n",
    "\n",
    "print(foundation_model)"
   ]
  },
  {
   "cell_type": "markdown",
   "id": "5271bb8f-72e2-4908-826a-7b18d2cc5edf",
   "metadata": {},
   "source": [
    "## 3. Create a Knowledge Base for Amazon Bedrock\n",
    "\n",
    "These are the steps to complete:\n",
    "    \n",
    "1. Create a Knowledge Base Role and its policies\n",
    "1. Create a Vector Database\n",
    "1. Create an OpenSearch Index\n",
    "1. Create a Knowledge Base\n",
    "1. Create a data source and attach to the recently created Knowledge Base\n",
    "1. Ingest data to your knowledge Base"
   ]
  },
  {
   "cell_type": "markdown",
   "id": "4c5975d6-3725-4456-8611-76d0195ede2b",
   "metadata": {},
   "source": [
    "### 3.1 Create Knowledge Base Role and Policies\n",
    "\n",
    "Let's first create IAM policies to allow our Knowledge Base to access Bedrock Titan Embedding Foundation model, Amazon OpenSearch Serverless and the S3 bucket with the Knowledge Base Files.\n",
    "\n",
    "Once the policies are ready, we will create the Knowledge Base role"
   ]
  },
  {
   "cell_type": "code",
   "execution_count": 13,
   "id": "374b7790-9848-497a-9d69-1f720ffaf530",
   "metadata": {},
   "outputs": [],
   "source": [
    "# Create IAM policies for KB to invoke embedding model\n",
    "bedrock_kb_allow_fm_model_policy_statement = {\n",
    "    \"Version\": \"2012-10-17\",\n",
    "    \"Statement\": [\n",
    "        {\n",
    "            \"Sid\": \"AmazonBedrockAgentBedrockFoundationModelPolicy\",\n",
    "            \"Effect\": \"Allow\",\n",
    "            \"Action\": \"bedrock:InvokeModel\",\n",
    "            \"Resource\": [\n",
    "                embedding_model_arn\n",
    "            ]\n",
    "        }\n",
    "    ]\n",
    "}\n",
    "\n",
    "kb_bedrock_policy_json = json.dumps(bedrock_kb_allow_fm_model_policy_statement)\n",
    "\n",
    "kb_bedrock_policy = iam_client.create_policy(\n",
    "    PolicyName=kb_bedrock_allow_policy_name,\n",
    "    PolicyDocument=kb_bedrock_policy_json\n",
    ")"
   ]
  },
  {
   "cell_type": "code",
   "execution_count": 14,
   "id": "1eef5be5-7185-4242-af82-eb55b0e4caec",
   "metadata": {},
   "outputs": [],
   "source": [
    "# Create IAM policies for KB to access OpenSearch Serverless\n",
    "bedrock_kb_allow_aoss_policy_statement = {\n",
    "    \"Version\": \"2012-10-17\",\n",
    "    \"Statement\": [\n",
    "        {\n",
    "            \"Effect\": \"Allow\",\n",
    "            \"Action\": \"aoss:APIAccessAll\",\n",
    "            \"Resource\": [\n",
    "                f\"arn:aws:aoss:{region}:{account_id}:collection/*\"\n",
    "            ]\n",
    "        }\n",
    "    ]\n",
    "}\n",
    "\n",
    "\n",
    "kb_aoss_policy_json = json.dumps(bedrock_kb_allow_aoss_policy_statement)\n",
    "\n",
    "kb_aoss_policy = iam_client.create_policy(\n",
    "    PolicyName=kb_aoss_allow_policy_name,\n",
    "    PolicyDocument=kb_aoss_policy_json\n",
    ")"
   ]
  },
  {
   "cell_type": "code",
   "execution_count": 15,
   "id": "8476c028-aba8-4a91-9389-4ee97499cf28",
   "metadata": {},
   "outputs": [],
   "source": [
    "kb_s3_allow_policy_statement = {\n",
    "    \"Version\": \"2012-10-17\",\n",
    "    \"Statement\": [\n",
    "        {\n",
    "            \"Sid\": \"AllowKBAccessDocuments\",\n",
    "            \"Effect\": \"Allow\",\n",
    "            \"Action\": [\n",
    "                \"s3:GetObject\",\n",
    "                \"s3:ListBucket\"\n",
    "            ],\n",
    "            \"Resource\": [\n",
    "                f\"arn:aws:s3:::{bucket_name}/*\",\n",
    "                f\"arn:aws:s3:::{bucket_name}\"\n",
    "            ],\n",
    "            \"Condition\": {\n",
    "                \"StringEquals\": {\n",
    "                    \"aws:ResourceAccount\": f\"{account_id}\"\n",
    "                }\n",
    "            }\n",
    "        }\n",
    "    ]\n",
    "}\n",
    "\n",
    "\n",
    "kb_s3_json = json.dumps(kb_s3_allow_policy_statement)\n",
    "kb_s3_policy = iam_client.create_policy(\n",
    "    PolicyName=kb_s3_allow_policy_name,\n",
    "    PolicyDocument=kb_s3_json\n",
    ")"
   ]
  },
  {
   "cell_type": "code",
   "execution_count": 16,
   "id": "38c5ddc1-8aab-41fd-899c-4937dee4fb70",
   "metadata": {},
   "outputs": [
    {
     "data": {
      "text/plain": [
       "{'ResponseMetadata': {'RequestId': '6917ff65-c224-4fe3-b0b9-9099299de677',\n",
       "  'HTTPStatusCode': 200,\n",
       "  'HTTPHeaders': {'date': 'Sun, 18 May 2025 07:26:09 GMT',\n",
       "   'x-amzn-requestid': '6917ff65-c224-4fe3-b0b9-9099299de677',\n",
       "   'content-type': 'text/xml',\n",
       "   'content-length': '212'},\n",
       "  'RetryAttempts': 0}}"
      ]
     },
     "execution_count": 16,
     "metadata": {},
     "output_type": "execute_result"
    }
   ],
   "source": [
    "# Create IAM Role for the agent and attach IAM policies\n",
    "assume_role_policy_document = {\n",
    "    \"Version\": \"2012-10-17\",\n",
    "    \"Statement\": [{\n",
    "          \"Effect\": \"Allow\",\n",
    "          \"Principal\": {\n",
    "            \"Service\": \"bedrock.amazonaws.com\"\n",
    "          },\n",
    "          \"Action\": \"sts:AssumeRole\"\n",
    "    }]\n",
    "}\n",
    "\n",
    "assume_role_policy_document_json = json.dumps(assume_role_policy_document)\n",
    "kb_role = iam_client.create_role(\n",
    "    RoleName=kb_role_name,\n",
    "    AssumeRolePolicyDocument=assume_role_policy_document_json\n",
    ")\n",
    "\n",
    "# Pause to make sure role is created\n",
    "time.sleep(10)\n",
    "    \n",
    "iam_client.attach_role_policy(\n",
    "    RoleName=kb_role_name,\n",
    "    PolicyArn=kb_bedrock_policy['Policy']['Arn']\n",
    ")\n",
    "\n",
    "iam_client.attach_role_policy(\n",
    "    RoleName=kb_role_name,\n",
    "    PolicyArn=kb_aoss_policy['Policy']['Arn']\n",
    ")\n",
    "\n",
    "iam_client.attach_role_policy(\n",
    "    RoleName=kb_role_name,\n",
    "    PolicyArn=kb_s3_policy['Policy']['Arn']\n",
    ")"
   ]
  },
  {
   "cell_type": "code",
   "execution_count": 17,
   "id": "9746b637-7725-49e8-a45c-7f6607569957",
   "metadata": {},
   "outputs": [
    {
     "data": {
      "text/plain": [
       "'arn:aws:iam::657506130129:role/agent-explorers-insurance-agent-kb-exec-role'"
      ]
     },
     "execution_count": 17,
     "metadata": {},
     "output_type": "execute_result"
    }
   ],
   "source": [
    "kb_role_arn = kb_role[\"Role\"][\"Arn\"]\n",
    "kb_role_arn"
   ]
  },
  {
   "cell_type": "markdown",
   "id": "21986f2e-a77f-4215-8e89-7b16d384db61",
   "metadata": {},
   "source": [
    "### 3.2 Create Vector Database\n",
    "\n",
    "Firt of all we have to create a vector store using Amazon OpenSerach Serverless.\n"
   ]
  },
  {
   "cell_type": "code",
   "execution_count": 21,
   "id": "9da99f9e-58b7-4bc3-8cb9-4b035ffc7b7d",
   "metadata": {},
   "outputs": [],
   "source": [
    "# Create OpenSearch Collection\n",
    "security_policy_json = {\n",
    "    \"Rules\": [\n",
    "        {\n",
    "            \"ResourceType\": \"collection\",\n",
    "            \"Resource\":[\n",
    "                f\"collection/{kb_collection_name}\"\n",
    "            ]\n",
    "        }\n",
    "    ],\n",
    "    \"AWSOwnedKey\": True\n",
    "}\n",
    "security_policy = open_search_serverless_client.create_security_policy(\n",
    "    description='security policy of aoss collection',\n",
    "    name=kb_collection_name,\n",
    "    policy=json.dumps(security_policy_json),\n",
    "    type='encryption'\n",
    ")"
   ]
  },
  {
   "cell_type": "code",
   "execution_count": 22,
   "id": "be660229-7435-4b3e-8c70-46a5cb9922f7",
   "metadata": {},
   "outputs": [],
   "source": [
    "network_policy_json = [\n",
    "  {\n",
    "    \"Rules\": [\n",
    "      {\n",
    "        \"Resource\": [\n",
    "          f\"collection/{kb_collection_name}\"\n",
    "        ],\n",
    "        \"ResourceType\": \"dashboard\"\n",
    "      },\n",
    "      {\n",
    "        \"Resource\": [\n",
    "          f\"collection/{kb_collection_name}\"\n",
    "        ],\n",
    "        \"ResourceType\": \"collection\"\n",
    "      }\n",
    "    ],\n",
    "    \"AllowFromPublic\": True\n",
    "  }\n",
    "]\n",
    "\n",
    "network_policy = open_search_serverless_client.create_security_policy(\n",
    "    description='network policy of aoss collection',\n",
    "    name=kb_collection_name,\n",
    "    policy=json.dumps(network_policy_json),\n",
    "    type='network'\n",
    ")"
   ]
  },
  {
   "cell_type": "code",
   "execution_count": 23,
   "id": "39c9d9c8-94f1-4538-a560-fcce25956aea",
   "metadata": {},
   "outputs": [
    {
     "data": {
      "text/plain": [
       "'arn:aws:sts::657506130129:assumed-role/AmazonSageMaker-ExecutionRole-20250513T130007/SageMaker'"
      ]
     },
     "execution_count": 23,
     "metadata": {},
     "output_type": "execute_result"
    }
   ],
   "source": [
    "response = sts_client.get_caller_identity()\n",
    "current_role = response['Arn']\n",
    "current_role"
   ]
  },
  {
   "cell_type": "code",
   "execution_count": 24,
   "id": "30d76fef-7cf4-41d5-acc4-2c1b4b305735",
   "metadata": {},
   "outputs": [],
   "source": [
    "data_policy_json = [\n",
    "  {\n",
    "    \"Rules\": [\n",
    "      {\n",
    "        \"Resource\": [\n",
    "          f\"collection/{kb_collection_name}\"\n",
    "        ],\n",
    "        \"Permission\": [\n",
    "          \"aoss:DescribeCollectionItems\",\n",
    "          \"aoss:CreateCollectionItems\",\n",
    "          \"aoss:UpdateCollectionItems\",\n",
    "          \"aoss:DeleteCollectionItems\"\n",
    "        ],\n",
    "        \"ResourceType\": \"collection\"\n",
    "      },\n",
    "      {\n",
    "        \"Resource\": [\n",
    "          f\"index/{kb_collection_name}/*\"\n",
    "        ],\n",
    "        \"Permission\": [\n",
    "            \"aoss:CreateIndex\",\n",
    "            \"aoss:DeleteIndex\",\n",
    "            \"aoss:UpdateIndex\",\n",
    "            \"aoss:DescribeIndex\",\n",
    "            \"aoss:ReadDocument\",\n",
    "            \"aoss:WriteDocument\"\n",
    "        ],\n",
    "        \"ResourceType\": \"index\"\n",
    "      }\n",
    "    ],\n",
    "    \"Principal\": [\n",
    "        kb_role_arn,\n",
    "        f\"arn:aws:sts::{account_id}:assumed-role/Admin/*\",\n",
    "        current_role\n",
    "    ],\n",
    "    \"Description\": \"\"\n",
    "  }\n",
    "]\n",
    "\n",
    "data_policy = open_search_serverless_client.create_access_policy(\n",
    "    description='data access policy for aoss collection',\n",
    "    name=kb_collection_name,\n",
    "    policy=json.dumps(data_policy_json),\n",
    "    type='data'\n",
    ")\n"
   ]
  },
  {
   "cell_type": "code",
   "execution_count": 25,
   "id": "5bd42d46-f31e-4aa7-8299-3757079cde03",
   "metadata": {},
   "outputs": [
    {
     "data": {
      "text/plain": [
       "{'createCollectionDetail': {'id': 'qe31vc2xrjmagq96i0ui',\n",
       "  'name': 'agent-explorers-insurance-kbc',\n",
       "  'status': 'CREATING',\n",
       "  'type': 'VECTORSEARCH',\n",
       "  'description': 'OpenSearch collection for Amazon Bedrock Knowledge Base',\n",
       "  'arn': 'arn:aws:aoss:us-east-1:657506130129:collection/qe31vc2xrjmagq96i0ui',\n",
       "  'kmsKeyArn': 'auto',\n",
       "  'standbyReplicas': 'DISABLED',\n",
       "  'createdDate': 1747556509722,\n",
       "  'lastModifiedDate': 1747556509722},\n",
       " 'ResponseMetadata': {'RequestId': '764a9a82-195c-451d-8669-59435e983834',\n",
       "  'HTTPStatusCode': 200,\n",
       "  'HTTPHeaders': {'x-amzn-requestid': '764a9a82-195c-451d-8669-59435e983834',\n",
       "   'date': 'Sun, 18 May 2025 08:21:49 GMT',\n",
       "   'content-type': 'application/x-amz-json-1.0',\n",
       "   'content-length': '394',\n",
       "   'connection': 'keep-alive'},\n",
       "  'RetryAttempts': 0}}"
      ]
     },
     "execution_count": 25,
     "metadata": {},
     "output_type": "execute_result"
    }
   ],
   "source": [
    "opensearch_collection_response = open_search_serverless_client.create_collection(\n",
    "    description='OpenSearch collection for Amazon Bedrock Knowledge Base',\n",
    "    name=kb_collection_name,\n",
    "    standbyReplicas='DISABLED',\n",
    "    type='VECTORSEARCH'\n",
    ")\n",
    "opensearch_collection_response"
   ]
  },
  {
   "cell_type": "code",
   "execution_count": 26,
   "id": "5d53dffe-83e9-44d1-8610-83b6f37c84ba",
   "metadata": {},
   "outputs": [
    {
     "data": {
      "text/plain": [
       "'arn:aws:aoss:us-east-1:657506130129:collection/qe31vc2xrjmagq96i0ui'"
      ]
     },
     "execution_count": 26,
     "metadata": {},
     "output_type": "execute_result"
    }
   ],
   "source": [
    "collection_arn = opensearch_collection_response[\"createCollectionDetail\"][\"arn\"]\n",
    "collection_arn"
   ]
  },
  {
   "cell_type": "code",
   "execution_count": 27,
   "id": "780585a8-52ae-4c3a-a418-f03c9644f624",
   "metadata": {},
   "outputs": [
    {
     "name": "stdout",
     "output_type": "stream",
     "text": [
      "\n",
      "Collection successfully created:\n",
      "[{'id': 'qe31vc2xrjmagq96i0ui', 'name': 'agent-explorers-insurance-kbc', 'status': 'ACTIVE', 'type': 'VECTORSEARCH', 'description': 'OpenSearch collection for Amazon Bedrock Knowledge Base', 'arn': 'arn:aws:aoss:us-east-1:657506130129:collection/qe31vc2xrjmagq96i0ui', 'kmsKeyArn': 'auto', 'standbyReplicas': 'DISABLED', 'createdDate': 1747556509722, 'lastModifiedDate': 1747556532495, 'collectionEndpoint': 'https://qe31vc2xrjmagq96i0ui.us-east-1.aoss.amazonaws.com', 'dashboardEndpoint': 'https://qe31vc2xrjmagq96i0ui.us-east-1.aoss.amazonaws.com/_dashboards'}]\n"
     ]
    },
    {
     "data": {
      "text/plain": [
       "'qe31vc2xrjmagq96i0ui.us-east-1.aoss.amazonaws.com'"
      ]
     },
     "execution_count": 27,
     "metadata": {},
     "output_type": "execute_result"
    }
   ],
   "source": [
    "# wait for collection creation\n",
    "response = open_search_serverless_client.batch_get_collection(names=[kb_collection_name])\n",
    "# Periodically check collection status\n",
    "while (response['collectionDetails'][0]['status']) == 'CREATING':\n",
    "    print('Creating collection...')\n",
    "    time.sleep(30)\n",
    "    response = open_search_serverless_client.batch_get_collection(names=[kb_collection_name])\n",
    "print('\\nCollection successfully created:')\n",
    "print(response[\"collectionDetails\"])\n",
    "# Extract the collection endpoint from the response\n",
    "host = (response['collectionDetails'][0]['collectionEndpoint'])\n",
    "final_host = host.replace(\"https://\", \"\")\n",
    "final_host"
   ]
  },
  {
   "cell_type": "markdown",
   "id": "5e69e97e-17f6-4ed4-9668-82feb249150a",
   "metadata": {},
   "source": [
    "### 3.3 - Create OpenSearch Index\n",
    "\n",
    "Let's now create a vector index to index our data"
   ]
  },
  {
   "cell_type": "code",
   "execution_count": 28,
   "id": "ba4b2d01-c839-4048-9e68-f2f2f683860c",
   "metadata": {},
   "outputs": [
    {
     "name": "stderr",
     "output_type": "stream",
     "text": [
      "[2025-05-18 08:24:17,845] p2089 {base.py:258} INFO - PUT https://qe31vc2xrjmagq96i0ui.us-east-1.aoss.amazonaws.com:443/bedrock-knowledge-base-index [status:200 request:0.557s]\n"
     ]
    },
    {
     "name": "stdout",
     "output_type": "stream",
     "text": [
      "\n",
      "Creating index:\n",
      "{'acknowledged': True, 'shards_acknowledged': True, 'index': 'bedrock-knowledge-base-index'}\n"
     ]
    }
   ],
   "source": [
    "credentials = boto3.Session().get_credentials()\n",
    "service = 'aoss'\n",
    "awsauth = AWS4Auth(\n",
    "    credentials.access_key, \n",
    "    credentials.secret_key,\n",
    "    region, \n",
    "    service, \n",
    "    session_token=credentials.token\n",
    ")\n",
    "\n",
    "# Build the OpenSearch client\n",
    "open_search_client = OpenSearch(\n",
    "    hosts=[{'host': final_host, 'port': 443}],\n",
    "    http_auth=awsauth,\n",
    "    use_ssl=True,\n",
    "    verify_certs=True,\n",
    "    connection_class=RequestsHttpConnection,\n",
    "    timeout=300\n",
    ")\n",
    "# It can take up to a minute for data access rules to be enforced\n",
    "time.sleep(45)\n",
    "index_body = {\n",
    "    \"settings\": {\n",
    "        \"index.knn\": True,\n",
    "        \"number_of_shards\": 1,\n",
    "        \"knn.algo_param.ef_search\": 512,\n",
    "        \"number_of_replicas\": 0,\n",
    "    },\n",
    "    \"mappings\": {\n",
    "        \"properties\": {}\n",
    "    }\n",
    "}\n",
    "\n",
    "index_body[\"mappings\"][\"properties\"][kb_vectorField] = {\n",
    "    \"type\": \"knn_vector\",\n",
    "    \"dimension\": 1536,\n",
    "    \"method\": {\n",
    "         \"name\": \"hnsw\",\n",
    "         \"engine\": \"faiss\"\n",
    "    },\n",
    "}\n",
    "\n",
    "index_body[\"mappings\"][\"properties\"][kb_textField] = {\n",
    "    \"type\": \"text\"\n",
    "}\n",
    "\n",
    "index_body[\"mappings\"][\"properties\"][kb_metadataField] = {\n",
    "    \"type\": \"text\"\n",
    "}\n",
    "\n",
    "# Create index\n",
    "response = open_search_client.indices.create(kb_vector_index_name, body=index_body)\n",
    "print('\\nCreating index:')\n",
    "print(response)"
   ]
  },
  {
   "cell_type": "markdown",
   "id": "5929be14-703b-47ab-8b79-2acf163a6e9e",
   "metadata": {},
   "source": [
    "### 3.5 - Create Knowledge Base\n",
    "Now that we have the Vector database available in OpenSearch Serverless, let's create a Knowledge Base and associate it with the OpenSearch DB"
   ]
  },
  {
   "cell_type": "code",
   "execution_count": 30,
   "id": "0a64a490-1770-4259-a7fb-8c2510d5a782",
   "metadata": {},
   "outputs": [],
   "source": [
    "storage_configuration = {\n",
    "    'opensearchServerlessConfiguration': {\n",
    "        'collectionArn': collection_arn, \n",
    "        'fieldMapping': {\n",
    "            'metadataField': kb_metadataField,\n",
    "            'textField': kb_textField,\n",
    "            'vectorField': kb_vectorField\n",
    "        },\n",
    "        'vectorIndexName': kb_vector_index_name\n",
    "    },\n",
    "    'type': 'OPENSEARCH_SERVERLESS'\n",
    "}"
   ]
  },
  {
   "cell_type": "code",
   "execution_count": 32,
   "id": "6bac67e0-60b6-466a-aff0-c604303ab92c",
   "metadata": {},
   "outputs": [
    {
     "name": "stdout",
     "output_type": "stream",
     "text": [
      "{'ResponseMetadata': {'HTTPHeaders': {'connection': 'keep-alive',\n",
      "                                      'content-length': '998',\n",
      "                                      'content-type': 'application/json',\n",
      "                                      'date': 'Sun, 18 May 2025 08:38:24 GMT',\n",
      "                                      'x-amz-apigw-id': 'KwVj-HWuIAMEp7g=',\n",
      "                                      'x-amzn-requestid': 'b98fbb38-0f6c-477f-a145-8ce0e01e317d',\n",
      "                                      'x-amzn-trace-id': 'Root=1-68299c7f-4c0a1890086d4f99098e55b6'},\n",
      "                      'HTTPStatusCode': 202,\n",
      "                      'RequestId': 'b98fbb38-0f6c-477f-a145-8ce0e01e317d',\n",
      "                      'RetryAttempts': 0},\n",
      " 'knowledgeBase': {'createdAt': datetime.datetime(2025, 5, 18, 8, 38, 23, 586525, tzinfo=tzlocal()),\n",
      "                   'description': 'KB that contains the bedrock documentation',\n",
      "                   'knowledgeBaseArn': 'arn:aws:bedrock:us-east-1:657506130129:knowledge-base/VZ4BPNK9PO',\n",
      "                   'knowledgeBaseConfiguration': {'type': 'VECTOR',\n",
      "                                                  'vectorKnowledgeBaseConfiguration': {'embeddingModelArn': 'arn:aws:bedrock:us-east-1::foundation-model/amazon.titan-embed-text-v1'}},\n",
      "                   'knowledgeBaseId': 'VZ4BPNK9PO',\n",
      "                   'name': 'agent-explorers-insurance-agent-kb',\n",
      "                   'roleArn': 'arn:aws:iam::657506130129:role/agent-explorers-insurance-agent-kb-exec-role',\n",
      "                   'status': 'CREATING',\n",
      "                   'storageConfiguration': {'opensearchServerlessConfiguration': {'collectionArn': 'arn:aws:aoss:us-east-1:657506130129:collection/qe31vc2xrjmagq96i0ui',\n",
      "                                                                                  'fieldMapping': {'metadataField': 'bedrock-knowledge-base-metadata',\n",
      "                                                                                                   'textField': 'bedrock-knowledge-base-text',\n",
      "                                                                                                   'vectorField': 'bedrock-knowledge-base-vector'},\n",
      "                                                                                  'vectorIndexName': 'bedrock-knowledge-base-index'},\n",
      "                                            'type': 'OPENSEARCH_SERVERLESS'},\n",
      "                   'updatedAt': datetime.datetime(2025, 5, 18, 8, 38, 23, 586525, tzinfo=tzlocal())}}\n"
     ]
    }
   ],
   "source": [
    "# Creating the knowledge base\n",
    "try:\n",
    "    # ensure the index is created and available\n",
    "    time.sleep(45)\n",
    "    kb_obj = bedrock_agent_client.create_knowledge_base(\n",
    "        name=kb_name, \n",
    "        description='KB that contains the bedrock documentation',\n",
    "        roleArn=kb_role_arn,\n",
    "        knowledgeBaseConfiguration={\n",
    "            'type': 'VECTOR',  # Corrected type\n",
    "            'vectorKnowledgeBaseConfiguration': {\n",
    "                'embeddingModelArn': embedding_model_arn\n",
    "            }\n",
    "        },\n",
    "        storageConfiguration=storage_configuration\n",
    "    )\n",
    "\n",
    "    # Pretty print the response\n",
    "    pprint.pprint(kb_obj)\n",
    "\n",
    "except Exception as e:\n",
    "    print(f\"Error occurred: {e}\")"
   ]
  },
  {
   "cell_type": "code",
   "execution_count": 35,
   "id": "26891f2a-74ac-4e63-adba-48e2d9097828",
   "metadata": {},
   "outputs": [
    {
     "name": "stdout",
     "output_type": "stream",
     "text": [
      "{'ResponseMetadata': {'HTTPHeaders': {'connection': 'keep-alive',\n",
      "                                      'content-length': '652',\n",
      "                                      'content-type': 'application/json',\n",
      "                                      'date': 'Sun, 18 May 2025 08:46:48 GMT',\n",
      "                                      'x-amz-apigw-id': 'KwWy8FxZIAMEiuA=',\n",
      "                                      'x-amzn-requestid': 'b0db4d12-75d4-46e5-ba7a-4f05acdec375',\n",
      "                                      'x-amzn-trace-id': 'Root=1-68299e78-2cad57291317a9a3229c65c0'},\n",
      "                      'HTTPStatusCode': 200,\n",
      "                      'RequestId': 'b0db4d12-75d4-46e5-ba7a-4f05acdec375',\n",
      "                      'RetryAttempts': 0},\n",
      " 'dataSource': {'createdAt': datetime.datetime(2025, 5, 18, 8, 46, 48, 966326, tzinfo=tzlocal()),\n",
      "                'dataDeletionPolicy': 'DELETE',\n",
      "                'dataSourceConfiguration': {'s3Configuration': {'bucketArn': 'arn:aws:s3:::agentexplorer-insurance-data',\n",
      "                                                                'inclusionPrefixes': ['knowledgebase-docs']},\n",
      "                                            'type': 'S3'},\n",
      "                'dataSourceId': '3RXNW1FAAV',\n",
      "                'description': 'DataSource for the bedrock documentation',\n",
      "                'knowledgeBaseId': 'VZ4BPNK9PO',\n",
      "                'name': 'agent-explorers-insurance-agent-kb-datasource',\n",
      "                'status': 'AVAILABLE',\n",
      "                'updatedAt': datetime.datetime(2025, 5, 18, 8, 46, 48, 966326, tzinfo=tzlocal()),\n",
      "                'vectorIngestionConfiguration': {'chunkingConfiguration': {'chunkingStrategy': 'FIXED_SIZE',\n",
      "                                                                           'fixedSizeChunkingConfiguration': {'maxTokens': 512,\n",
      "                                                                                                              'overlapPercentage': 20}}}}}\n"
     ]
    }
   ],
   "source": [
    "# Define the S3 configuration for your data source\n",
    "s3_configuration = {\n",
    "    'bucketArn': bucket_arn,\n",
    "    'inclusionPrefixes': [kb_key]  \n",
    "}\n",
    "\n",
    "# Define the data source configuration\n",
    "data_source_configuration = {\n",
    "    's3Configuration': s3_configuration,\n",
    "    'type': 'S3'\n",
    "}\n",
    "\n",
    "knowledge_base_id = kb_obj[\"knowledgeBase\"][\"knowledgeBaseId\"]\n",
    "knowledge_base_arn = kb_obj[\"knowledgeBase\"][\"knowledgeBaseArn\"]\n",
    "\n",
    "chunking_strategy_configuration = {\n",
    "    \"chunkingStrategy\": \"FIXED_SIZE\",\n",
    "    \"fixedSizeChunkingConfiguration\": {\n",
    "        \"maxTokens\": 512,\n",
    "        \"overlapPercentage\": 20\n",
    "    }\n",
    "}\n",
    "\n",
    "# Create the data source\n",
    "try:\n",
    "    # ensure that the KB is created and available\n",
    "    time.sleep(45)\n",
    "    data_source_response = bedrock_agent_client.create_data_source(\n",
    "        knowledgeBaseId=knowledge_base_id,\n",
    "        name=data_source_name,\n",
    "        description='DataSource for the bedrock documentation',\n",
    "        dataSourceConfiguration=data_source_configuration,\n",
    "        vectorIngestionConfiguration = {\n",
    "            \"chunkingConfiguration\": chunking_strategy_configuration\n",
    "        }\n",
    "    )\n",
    "\n",
    "    # Pretty print the response\n",
    "    pprint.pprint(data_source_response)\n",
    "\n",
    "except Exception as e:\n",
    "    print(f\"Error occurred: {e}\")"
   ]
  },
  {
   "cell_type": "markdown",
   "id": "b275018b-afe6-42f9-957b-48b7f522025f",
   "metadata": {},
   "source": [
    "### 3.6 - Start ingestion job\n",
    "\n",
    "Once the Knowledge Base and Data Source are created, we can start the ingestion job. During the ingestion job, Knowledge Base will fetch the documents in the data source, pre-process it to extract text, chunk it based on the chunking size provided, create embeddings of each chunk and then write it to the vector database, in this case Amazon OpenSource Serverless.\n"
   ]
  },
  {
   "cell_type": "code",
   "execution_count": 37,
   "id": "057e0c28-a336-4a19-9663-a3780bc3bfb4",
   "metadata": {},
   "outputs": [],
   "source": [
    "# Start an ingestion job\n",
    "data_source_id = data_source_response[\"dataSource\"][\"dataSourceId\"]\n",
    "start_job_response = bedrock_agent_client.start_ingestion_job(\n",
    "    knowledgeBaseId=knowledge_base_id, \n",
    "    dataSourceId=data_source_id\n",
    ")"
   ]
  },
  {
   "cell_type": "markdown",
   "id": "c0e82b80-ce5e-4e51-830a-f2af7296ed7f",
   "metadata": {},
   "source": [
    "## 4. Create Agent\n",
    "\n",
    "We will now create the Agent and associate the Knowledge Base to it. To do so we need to: \n",
    "1. Create Agent IAM role and policies\n",
    "1. Create Agent\n",
    "1. Associate Agent to Knowledge Base\n",
    "1. Prepare Agent\n",
    "\n",
    "### 4.1 - Create Agent IAM role and policies\n",
    "First we need to create the agent policies that allow bedrock model invocation and Knowledge Base retrieval"
   ]
  },
  {
   "cell_type": "code",
   "execution_count": 38,
   "id": "b15ced1c-2379-498b-be9d-bc9a278df671",
   "metadata": {},
   "outputs": [],
   "source": [
    "bedrock_agent_bedrock_allow_policy_statement = {\n",
    "    \"Version\": \"2012-10-17\",\n",
    "    \"Statement\": [\n",
    "        {\n",
    "            \"Sid\": \"AmazonBedrockAgentBedrockFoundationModelPolicy\",\n",
    "            \"Effect\": \"Allow\",\n",
    "            \"Action\": \"bedrock:InvokeModel\",\n",
    "            \"Resource\": [\n",
    "                f\"arn:aws:bedrock:*::foundation-model/{foundation_model}\",\n",
    "                f\"arn:aws:bedrock:*:*:inference-profile/{inference_profile}\"\n",
    "            ]\n",
    "        },\n",
    "        {\n",
    "            \"Sid\": \"AmazonBedrockAgentBedrockGetInferenceProfile\",\n",
    "            \"Effect\": \"Allow\",\n",
    "            \"Action\":  [\n",
    "                \"bedrock:GetInferenceProfile\",\n",
    "                \"bedrock:ListInferenceProfiles\",\n",
    "                \"bedrock:UseInferenceProfile\"\n",
    "            ],\n",
    "            \"Resource\": \"*\"\n",
    "        }\n",
    "\n",
    "    ]\n",
    "}\n",
    "\n",
    "bedrock_policy_json = json.dumps(bedrock_agent_bedrock_allow_policy_statement)\n",
    "\n",
    "agent_bedrock_policy = iam_client.create_policy(\n",
    "    PolicyName=bedrock_agent_bedrock_allow_policy_name,\n",
    "    PolicyDocument=bedrock_policy_json\n",
    ")"
   ]
  },
  {
   "cell_type": "code",
   "execution_count": 40,
   "id": "992e0d46-f5a1-4678-a610-08df8c84448b",
   "metadata": {},
   "outputs": [
    {
     "ename": "EntityAlreadyExistsException",
     "evalue": "An error occurred (EntityAlreadyExists) when calling the CreatePolicy operation: A policy called agent-explorers-insurance-agent-kb-allow-policy already exists. Duplicate names are not allowed.",
     "output_type": "error",
     "traceback": [
      "\u001b[0;31m---------------------------------------------------------------------------\u001b[0m",
      "\u001b[0;31mEntityAlreadyExistsException\u001b[0m              Traceback (most recent call last)",
      "Cell \u001b[0;32mIn[40], line 16\u001b[0m\n\u001b[1;32m      1\u001b[0m bedrock_agent_kb_retrival_policy_statement \u001b[38;5;241m=\u001b[39m {\n\u001b[1;32m      2\u001b[0m     \u001b[38;5;124m\"\u001b[39m\u001b[38;5;124mVersion\u001b[39m\u001b[38;5;124m\"\u001b[39m: \u001b[38;5;124m\"\u001b[39m\u001b[38;5;124m2012-10-17\u001b[39m\u001b[38;5;124m\"\u001b[39m,\n\u001b[1;32m      3\u001b[0m     \u001b[38;5;124m\"\u001b[39m\u001b[38;5;124mStatement\u001b[39m\u001b[38;5;124m\"\u001b[39m: [\n\u001b[0;32m   (...)\u001b[0m\n\u001b[1;32m     13\u001b[0m     ]\n\u001b[1;32m     14\u001b[0m }\n\u001b[1;32m     15\u001b[0m bedrock_agent_kb_json \u001b[38;5;241m=\u001b[39m json\u001b[38;5;241m.\u001b[39mdumps(bedrock_agent_kb_retrival_policy_statement)\n\u001b[0;32m---> 16\u001b[0m agent_kb_schema_policy \u001b[38;5;241m=\u001b[39m \u001b[43miam_client\u001b[49m\u001b[38;5;241;43m.\u001b[39;49m\u001b[43mcreate_policy\u001b[49m\u001b[43m(\u001b[49m\n\u001b[1;32m     17\u001b[0m \u001b[43m    \u001b[49m\u001b[43mPolicyName\u001b[49m\u001b[38;5;241;43m=\u001b[39;49m\u001b[43mbedrock_agent_kb_allow_policy_name\u001b[49m\u001b[43m,\u001b[49m\n\u001b[1;32m     18\u001b[0m \u001b[43m    \u001b[49m\u001b[43mDescription\u001b[49m\u001b[38;5;241;43m=\u001b[39;49m\u001b[38;5;124;43mf\u001b[39;49m\u001b[38;5;124;43m\"\u001b[39;49m\u001b[38;5;124;43mPolicy to allow agent to retrieve documents from knowledge base.\u001b[39;49m\u001b[38;5;124;43m\"\u001b[39;49m\u001b[43m,\u001b[49m\n\u001b[1;32m     19\u001b[0m \u001b[43m    \u001b[49m\u001b[43mPolicyDocument\u001b[49m\u001b[38;5;241;43m=\u001b[39;49m\u001b[43mbedrock_agent_kb_json\u001b[49m\n\u001b[1;32m     20\u001b[0m \u001b[43m)\u001b[49m\n",
      "File \u001b[0;32m/opt/conda/lib/python3.12/site-packages/botocore/client.py:595\u001b[0m, in \u001b[0;36mClientCreator._create_api_method.<locals>._api_call\u001b[0;34m(self, *args, **kwargs)\u001b[0m\n\u001b[1;32m    591\u001b[0m     \u001b[38;5;28;01mraise\u001b[39;00m \u001b[38;5;167;01mTypeError\u001b[39;00m(\n\u001b[1;32m    592\u001b[0m         \u001b[38;5;124mf\u001b[39m\u001b[38;5;124m\"\u001b[39m\u001b[38;5;132;01m{\u001b[39;00mpy_operation_name\u001b[38;5;132;01m}\u001b[39;00m\u001b[38;5;124m() only accepts keyword arguments.\u001b[39m\u001b[38;5;124m\"\u001b[39m\n\u001b[1;32m    593\u001b[0m     )\n\u001b[1;32m    594\u001b[0m \u001b[38;5;66;03m# The \"self\" in this scope is referring to the BaseClient.\u001b[39;00m\n\u001b[0;32m--> 595\u001b[0m \u001b[38;5;28;01mreturn\u001b[39;00m \u001b[38;5;28;43mself\u001b[39;49m\u001b[38;5;241;43m.\u001b[39;49m\u001b[43m_make_api_call\u001b[49m\u001b[43m(\u001b[49m\u001b[43moperation_name\u001b[49m\u001b[43m,\u001b[49m\u001b[43m \u001b[49m\u001b[43mkwargs\u001b[49m\u001b[43m)\u001b[49m\n",
      "File \u001b[0;32m/opt/conda/lib/python3.12/site-packages/botocore/context.py:123\u001b[0m, in \u001b[0;36mwith_current_context.<locals>.decorator.<locals>.wrapper\u001b[0;34m(*args, **kwargs)\u001b[0m\n\u001b[1;32m    121\u001b[0m \u001b[38;5;28;01mif\u001b[39;00m hook:\n\u001b[1;32m    122\u001b[0m     hook()\n\u001b[0;32m--> 123\u001b[0m \u001b[38;5;28;01mreturn\u001b[39;00m \u001b[43mfunc\u001b[49m\u001b[43m(\u001b[49m\u001b[38;5;241;43m*\u001b[39;49m\u001b[43margs\u001b[49m\u001b[43m,\u001b[49m\u001b[43m \u001b[49m\u001b[38;5;241;43m*\u001b[39;49m\u001b[38;5;241;43m*\u001b[39;49m\u001b[43mkwargs\u001b[49m\u001b[43m)\u001b[49m\n",
      "File \u001b[0;32m/opt/conda/lib/python3.12/site-packages/botocore/client.py:1058\u001b[0m, in \u001b[0;36mBaseClient._make_api_call\u001b[0;34m(self, operation_name, api_params)\u001b[0m\n\u001b[1;32m   1054\u001b[0m     error_code \u001b[38;5;241m=\u001b[39m error_info\u001b[38;5;241m.\u001b[39mget(\u001b[38;5;124m\"\u001b[39m\u001b[38;5;124mQueryErrorCode\u001b[39m\u001b[38;5;124m\"\u001b[39m) \u001b[38;5;129;01mor\u001b[39;00m error_info\u001b[38;5;241m.\u001b[39mget(\n\u001b[1;32m   1055\u001b[0m         \u001b[38;5;124m\"\u001b[39m\u001b[38;5;124mCode\u001b[39m\u001b[38;5;124m\"\u001b[39m\n\u001b[1;32m   1056\u001b[0m     )\n\u001b[1;32m   1057\u001b[0m     error_class \u001b[38;5;241m=\u001b[39m \u001b[38;5;28mself\u001b[39m\u001b[38;5;241m.\u001b[39mexceptions\u001b[38;5;241m.\u001b[39mfrom_code(error_code)\n\u001b[0;32m-> 1058\u001b[0m     \u001b[38;5;28;01mraise\u001b[39;00m error_class(parsed_response, operation_name)\n\u001b[1;32m   1059\u001b[0m \u001b[38;5;28;01melse\u001b[39;00m:\n\u001b[1;32m   1060\u001b[0m     \u001b[38;5;28;01mreturn\u001b[39;00m parsed_response\n",
      "\u001b[0;31mEntityAlreadyExistsException\u001b[0m: An error occurred (EntityAlreadyExists) when calling the CreatePolicy operation: A policy called agent-explorers-insurance-agent-kb-allow-policy already exists. Duplicate names are not allowed."
     ]
    }
   ],
   "source": [
    "bedrock_agent_kb_retrival_policy_statement = {\n",
    "    \"Version\": \"2012-10-17\",\n",
    "    \"Statement\": [\n",
    "        {\n",
    "            \"Effect\": \"Allow\",\n",
    "            \"Action\": [\n",
    "                \"bedrock:Retrieve\"\n",
    "            ],\n",
    "            \"Resource\": [\n",
    "                knowledge_base_arn\n",
    "            ]\n",
    "        }\n",
    "    ]\n",
    "}\n",
    "bedrock_agent_kb_json = json.dumps(bedrock_agent_kb_retrival_policy_statement)\n",
    "agent_kb_schema_policy = iam_client.create_policy(\n",
    "    PolicyName=bedrock_agent_kb_allow_policy_name,\n",
    "    Description=f\"Policy to allow agent to retrieve documents from knowledge base.\",\n",
    "    PolicyDocument=bedrock_agent_kb_json\n",
    ")"
   ]
  },
  {
   "cell_type": "code",
   "execution_count": 41,
   "id": "ebfa32d6-9fad-412a-a40d-2367a83a93a2",
   "metadata": {},
   "outputs": [
    {
     "data": {
      "text/plain": [
       "{'ResponseMetadata': {'RequestId': '59dd5fa2-cafd-455b-863b-828215edc31f',\n",
       "  'HTTPStatusCode': 200,\n",
       "  'HTTPHeaders': {'date': 'Mon, 19 May 2025 10:13:38 GMT',\n",
       "   'x-amzn-requestid': '59dd5fa2-cafd-455b-863b-828215edc31f',\n",
       "   'content-type': 'text/xml',\n",
       "   'content-length': '212'},\n",
       "  'RetryAttempts': 0}}"
      ]
     },
     "execution_count": 41,
     "metadata": {},
     "output_type": "execute_result"
    }
   ],
   "source": [
    "# Create IAM Role for the agent and attach IAM policies\n",
    "assume_role_policy_document = {\n",
    "    \"Version\": \"2012-10-17\",\n",
    "    \"Statement\": [{\n",
    "          \"Effect\": \"Allow\",\n",
    "          \"Principal\": {\n",
    "            \"Service\": \"bedrock.amazonaws.com\"\n",
    "          },\n",
    "          \"Action\": \"sts:AssumeRole\"\n",
    "    }]\n",
    "}\n",
    "\n",
    "assume_role_policy_document_json = json.dumps(assume_role_policy_document)\n",
    "agent_role = iam_client.create_role(\n",
    "    RoleName=agent_role_name,\n",
    "    AssumeRolePolicyDocument=assume_role_policy_document_json\n",
    ")\n",
    "\n",
    "# Pause to make sure role is created\n",
    "time.sleep(10)\n",
    "    \n",
    "iam_client.attach_role_policy(\n",
    "    RoleName=agent_role_name,\n",
    "    PolicyArn=agent_bedrock_policy['Policy']['Arn']\n",
    ")\n",
    "\n",
    "\n",
    "iam_client.attach_role_policy(\n",
    "    RoleName=agent_role_name,\n",
    "    PolicyArn=agent_kb_schema_policy['Policy']['Arn']\n",
    ")"
   ]
  },
  {
   "cell_type": "markdown",
   "id": "e34b4528-44f0-4917-98f6-9ceacba0524b",
   "metadata": {},
   "source": [
    "### 4.2 - Create Agent\n",
    "Once the needed IAM role is created, we can use the bedrock agent client to create a new agent. To do so we use the create_agent function. It requires an agent name, underline foundation model and instruction. You can also provide an agent description. Note that the agent created is not yet prepared. We will focus on preparing the agent and then using it to invoke actions and use other APIs"
   ]
  },
  {
   "cell_type": "code",
   "execution_count": 44,
   "id": "57ddd545-de3d-41cb-9577-b45864e30ddf",
   "metadata": {},
   "outputs": [],
   "source": [
    "# Pause for agent role creation\n",
    "time.sleep(30)\n",
    "\n",
    "# Create Agent\n",
    "response = bedrock_agent_client.create_agent(\n",
    "    agentName=agent_name,\n",
    "    agentResourceRoleArn=agent_role['Role']['Arn'],\n",
    "    description=\"Agent supporting Amazon Bedrock Developers.\",\n",
    "    idleSessionTTLInSeconds=1800,\n",
    "    foundationModel=inference_profile,\n",
    "    instruction=agent_instruction,\n",
    ")\n",
    "\n",
    "time.sleep(30)"
   ]
  },
  {
   "cell_type": "markdown",
   "id": "52dc8d46-c870-4f88-96d6-33295790b8bd",
   "metadata": {},
   "source": [
    "Let's now store the agent id in a local variable to use it on the next steps"
   ]
  },
  {
   "cell_type": "code",
   "execution_count": 47,
   "id": "541a4d88-8c85-4dbf-b51d-163e8b9cd875",
   "metadata": {},
   "outputs": [
    {
     "data": {
      "text/plain": [
       "'M2RWG6DHRU'"
      ]
     },
     "execution_count": 47,
     "metadata": {},
     "output_type": "execute_result"
    }
   ],
   "source": [
    "agent_id = response['agent']['agentId']\n",
    "agent_id"
   ]
  },
  {
   "cell_type": "markdown",
   "id": "cb739ce3-9034-46da-aa0d-df8e0e1010e3",
   "metadata": {},
   "source": [
    "### 4.3 - Associate agent to the Knowledge Base\n",
    "Next, we need to associate the agent created with the Knowledge Base for the Bedrock documentation"
   ]
  },
  {
   "cell_type": "code",
   "execution_count": 49,
   "id": "a6b9c90c-5469-412f-92e8-019f33c0982d",
   "metadata": {},
   "outputs": [],
   "source": [
    "agent_kb_description = bedrock_agent_client.associate_agent_knowledge_base(\n",
    "    agentId=agent_id,\n",
    "    agentVersion='DRAFT',\n",
    "    description=f'Use the information in the {kb_name} knowledge base to provide accurate responses to the questions about Amazon Bedrock.',\n",
    "    knowledgeBaseId=knowledge_base_id \n",
    ")"
   ]
  },
  {
   "cell_type": "markdown",
   "id": "a1276b70-9420-45b3-be46-316f85124570",
   "metadata": {},
   "source": [
    "### 4.4 - Prepare Agent\n",
    "\n",
    "Let's create a DRAFT version of the agent that can be used for internal testing."
   ]
  },
  {
   "cell_type": "code",
   "execution_count": 51,
   "id": "b0cac4f9-70e8-4673-9c45-88ea8163ae64",
   "metadata": {},
   "outputs": [
    {
     "data": {
      "text/plain": [
       "{'ResponseMetadata': {'RequestId': 'ce9ada3c-d69c-4d8c-9b51-9991278b1420',\n",
       "  'HTTPStatusCode': 202,\n",
       "  'HTTPHeaders': {'date': 'Mon, 19 May 2025 11:08:16 GMT',\n",
       "   'content-type': 'application/json',\n",
       "   'content-length': '119',\n",
       "   'connection': 'keep-alive',\n",
       "   'x-amzn-requestid': 'ce9ada3c-d69c-4d8c-9b51-9991278b1420',\n",
       "   'x-amz-apigw-id': 'Kz-dAGnGoAMEvuw=',\n",
       "   'x-amzn-trace-id': 'Root=1-682b111f-689a4ce1313297f60e654f5b'},\n",
       "  'RetryAttempts': 0},\n",
       " 'agentId': 'M2RWG6DHRU',\n",
       " 'agentStatus': 'PREPARING',\n",
       " 'agentVersion': 'DRAFT',\n",
       " 'preparedAt': datetime.datetime(2025, 5, 19, 11, 8, 16, 121644, tzinfo=tzlocal())}"
      ]
     },
     "execution_count": 51,
     "metadata": {},
     "output_type": "execute_result"
    }
   ],
   "source": [
    "agent_prepare = bedrock_agent_client.prepare_agent(agentId=agent_id)\n",
    "agent_prepare"
   ]
  },
  {
   "cell_type": "code",
   "execution_count": null,
   "id": "60b1bb84-e421-432d-ad34-0ac6a01869f1",
   "metadata": {},
   "outputs": [],
   "source": []
  }
 ],
 "metadata": {
  "kernelspec": {
   "display_name": "Python 3 (ipykernel)",
   "language": "python",
   "name": "python3"
  },
  "language_info": {
   "codemirror_mode": {
    "name": "ipython",
    "version": 3
   },
   "file_extension": ".py",
   "mimetype": "text/x-python",
   "name": "python",
   "nbconvert_exporter": "python",
   "pygments_lexer": "ipython3",
   "version": "3.12.9"
  }
 },
 "nbformat": 4,
 "nbformat_minor": 5
}
